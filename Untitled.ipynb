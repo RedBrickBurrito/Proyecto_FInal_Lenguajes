{
 "cells": [
  {
   "cell_type": "code",
   "execution_count": 13,
   "metadata": {},
   "outputs": [],
   "source": [
    "import pandas as pd\n",
    "import re\n",
    "from matplotlib import pyplot as plt"
   ]
  },
  {
   "cell_type": "markdown",
   "metadata": {},
   "source": [
    "## Leer dataset"
   ]
  },
  {
   "cell_type": "code",
   "execution_count": 14,
   "metadata": {},
   "outputs": [
    {
     "data": {
      "text/html": [
       "<div>\n",
       "<style scoped>\n",
       "    .dataframe tbody tr th:only-of-type {\n",
       "        vertical-align: middle;\n",
       "    }\n",
       "\n",
       "    .dataframe tbody tr th {\n",
       "        vertical-align: top;\n",
       "    }\n",
       "\n",
       "    .dataframe thead th {\n",
       "        text-align: right;\n",
       "    }\n",
       "</style>\n",
       "<table border=\"1\" class=\"dataframe\">\n",
       "  <thead>\n",
       "    <tr style=\"text-align: right;\">\n",
       "      <th></th>\n",
       "      <th>CONTAMINANTE</th>\n",
       "      <th>Fecha</th>\n",
       "      <th>HORA</th>\n",
       "      <th>CHIH-CEN</th>\n",
       "      <th>CHIH-SUR</th>\n",
       "    </tr>\n",
       "  </thead>\n",
       "  <tbody>\n",
       "    <tr>\n",
       "      <th>0</th>\n",
       "      <td>CO</td>\n",
       "      <td>2015-01-20</td>\n",
       "      <td>17</td>\n",
       "      <td></td>\n",
       "      <td>0.6</td>\n",
       "    </tr>\n",
       "    <tr>\n",
       "      <th>1</th>\n",
       "      <td>CO</td>\n",
       "      <td>2015-01-20</td>\n",
       "      <td>18</td>\n",
       "      <td></td>\n",
       "      <td>0.5</td>\n",
       "    </tr>\n",
       "    <tr>\n",
       "      <th>2</th>\n",
       "      <td>CO</td>\n",
       "      <td>2015-01-20</td>\n",
       "      <td>19</td>\n",
       "      <td></td>\n",
       "      <td>0.8</td>\n",
       "    </tr>\n",
       "    <tr>\n",
       "      <th>3</th>\n",
       "      <td>CO</td>\n",
       "      <td>2015-01-20</td>\n",
       "      <td>20</td>\n",
       "      <td></td>\n",
       "      <td>1.7</td>\n",
       "    </tr>\n",
       "    <tr>\n",
       "      <th>4</th>\n",
       "      <td>CO</td>\n",
       "      <td>2015-01-20</td>\n",
       "      <td>21</td>\n",
       "      <td></td>\n",
       "      <td>1.4</td>\n",
       "    </tr>\n",
       "    <tr>\n",
       "      <th>...</th>\n",
       "      <td>...</td>\n",
       "      <td>...</td>\n",
       "      <td>...</td>\n",
       "      <td>...</td>\n",
       "      <td>...</td>\n",
       "    </tr>\n",
       "    <tr>\n",
       "      <th>95</th>\n",
       "      <td>CO</td>\n",
       "      <td>2015-01-24</td>\n",
       "      <td>18</td>\n",
       "      <td></td>\n",
       "      <td>0.4</td>\n",
       "    </tr>\n",
       "    <tr>\n",
       "      <th>96</th>\n",
       "      <td>CO</td>\n",
       "      <td>2015-01-24</td>\n",
       "      <td>19</td>\n",
       "      <td></td>\n",
       "      <td>0.5</td>\n",
       "    </tr>\n",
       "    <tr>\n",
       "      <th>97</th>\n",
       "      <td>CO</td>\n",
       "      <td>2015-01-24</td>\n",
       "      <td>20</td>\n",
       "      <td></td>\n",
       "      <td>0.6</td>\n",
       "    </tr>\n",
       "    <tr>\n",
       "      <th>98</th>\n",
       "      <td>CO</td>\n",
       "      <td>2015-01-24</td>\n",
       "      <td>21</td>\n",
       "      <td></td>\n",
       "      <td>0.9</td>\n",
       "    </tr>\n",
       "    <tr>\n",
       "      <th>99</th>\n",
       "      <td>CO</td>\n",
       "      <td>2015-01-24</td>\n",
       "      <td>22</td>\n",
       "      <td></td>\n",
       "      <td>1</td>\n",
       "    </tr>\n",
       "  </tbody>\n",
       "</table>\n",
       "<p>100 rows × 5 columns</p>\n",
       "</div>"
      ],
      "text/plain": [
       "   CONTAMINANTE      Fecha  HORA CHIH-CEN CHIH-SUR\n",
       "0            CO 2015-01-20    17               0.6\n",
       "1            CO 2015-01-20    18               0.5\n",
       "2            CO 2015-01-20    19               0.8\n",
       "3            CO 2015-01-20    20               1.7\n",
       "4            CO 2015-01-20    21               1.4\n",
       "..          ...        ...   ...      ...      ...\n",
       "95           CO 2015-01-24    18               0.4\n",
       "96           CO 2015-01-24    19               0.5\n",
       "97           CO 2015-01-24    20               0.6\n",
       "98           CO 2015-01-24    21               0.9\n",
       "99           CO 2015-01-24    22                 1\n",
       "\n",
       "[100 rows x 5 columns]"
      ]
     },
     "execution_count": 14,
     "metadata": {},
     "output_type": "execute_result"
    }
   ],
   "source": [
    "df = pd.read_csv(\"SMCA_CHIH_2015_2018.csv\",\n",
    "                parse_dates=['Fecha'])\n",
    "df.head(100)"
   ]
  },
  {
   "cell_type": "code",
   "execution_count": 15,
   "metadata": {},
   "outputs": [
    {
     "data": {
      "text/plain": [
       "array(['CONTAMINANTE', 'Fecha', 'HORA', 'CHIH-CEN', 'CHIH-SUR'],\n",
       "      dtype=object)"
      ]
     },
     "execution_count": 15,
     "metadata": {},
     "output_type": "execute_result"
    }
   ],
   "source": [
    "df.columns.values"
   ]
  },
  {
   "cell_type": "code",
   "execution_count": 16,
   "metadata": {},
   "outputs": [
    {
     "data": {
      "text/plain": [
       "CONTAMINANTE            object\n",
       "Fecha           datetime64[ns]\n",
       "HORA                     int64\n",
       "CHIH-CEN                object\n",
       "CHIH-SUR                object\n",
       "dtype: object"
      ]
     },
     "execution_count": 16,
     "metadata": {},
     "output_type": "execute_result"
    }
   ],
   "source": [
    "df.dtypes"
   ]
  },
  {
   "cell_type": "markdown",
   "metadata": {},
   "source": [
    "## Limpieza de datos\n",
    "\n",
    "Se cambian los valores vacios de la columns CHIH-SUR a numeros"
   ]
  },
  {
   "cell_type": "code",
   "execution_count": 17,
   "metadata": {},
   "outputs": [],
   "source": [
    "regex = r'(\\d+\\.\\d{1,2})|[\\d]'\n",
    "df['CHIH-SUR'] = df['CHIH-SUR'].str.extract(regex, expand=False)"
   ]
  },
  {
   "cell_type": "code",
   "execution_count": 18,
   "metadata": {},
   "outputs": [],
   "source": [
    "df['CHIH-SUR'] = pd.to_numeric(df['CHIH-SUR'])"
   ]
  },
  {
   "cell_type": "code",
   "execution_count": 19,
   "metadata": {},
   "outputs": [
    {
     "data": {
      "text/plain": [
       "(161205, 5)"
      ]
     },
     "execution_count": 19,
     "metadata": {},
     "output_type": "execute_result"
    }
   ],
   "source": [
    "df.shape"
   ]
  },
  {
   "cell_type": "code",
   "execution_count": 20,
   "metadata": {},
   "outputs": [
    {
     "data": {
      "text/html": [
       "<div>\n",
       "<style scoped>\n",
       "    .dataframe tbody tr th:only-of-type {\n",
       "        vertical-align: middle;\n",
       "    }\n",
       "\n",
       "    .dataframe tbody tr th {\n",
       "        vertical-align: top;\n",
       "    }\n",
       "\n",
       "    .dataframe thead th {\n",
       "        text-align: right;\n",
       "    }\n",
       "</style>\n",
       "<table border=\"1\" class=\"dataframe\">\n",
       "  <thead>\n",
       "    <tr style=\"text-align: right;\">\n",
       "      <th></th>\n",
       "      <th>CONTAMINANTE</th>\n",
       "      <th>Fecha</th>\n",
       "      <th>HORA</th>\n",
       "      <th>CHIH-CEN</th>\n",
       "      <th>CHIH-SUR</th>\n",
       "    </tr>\n",
       "  </thead>\n",
       "  <tbody>\n",
       "    <tr>\n",
       "      <th>0</th>\n",
       "      <td>CO</td>\n",
       "      <td>2015-01-20</td>\n",
       "      <td>17</td>\n",
       "      <td></td>\n",
       "      <td>0.6</td>\n",
       "    </tr>\n",
       "    <tr>\n",
       "      <th>1</th>\n",
       "      <td>CO</td>\n",
       "      <td>2015-01-20</td>\n",
       "      <td>18</td>\n",
       "      <td></td>\n",
       "      <td>0.5</td>\n",
       "    </tr>\n",
       "    <tr>\n",
       "      <th>2</th>\n",
       "      <td>CO</td>\n",
       "      <td>2015-01-20</td>\n",
       "      <td>19</td>\n",
       "      <td></td>\n",
       "      <td>0.8</td>\n",
       "    </tr>\n",
       "    <tr>\n",
       "      <th>3</th>\n",
       "      <td>CO</td>\n",
       "      <td>2015-01-20</td>\n",
       "      <td>20</td>\n",
       "      <td></td>\n",
       "      <td>1.7</td>\n",
       "    </tr>\n",
       "    <tr>\n",
       "      <th>4</th>\n",
       "      <td>CO</td>\n",
       "      <td>2015-01-20</td>\n",
       "      <td>21</td>\n",
       "      <td></td>\n",
       "      <td>1.4</td>\n",
       "    </tr>\n",
       "    <tr>\n",
       "      <th>...</th>\n",
       "      <td>...</td>\n",
       "      <td>...</td>\n",
       "      <td>...</td>\n",
       "      <td>...</td>\n",
       "      <td>...</td>\n",
       "    </tr>\n",
       "    <tr>\n",
       "      <th>95</th>\n",
       "      <td>CO</td>\n",
       "      <td>2015-01-24</td>\n",
       "      <td>18</td>\n",
       "      <td></td>\n",
       "      <td>0.4</td>\n",
       "    </tr>\n",
       "    <tr>\n",
       "      <th>96</th>\n",
       "      <td>CO</td>\n",
       "      <td>2015-01-24</td>\n",
       "      <td>19</td>\n",
       "      <td></td>\n",
       "      <td>0.5</td>\n",
       "    </tr>\n",
       "    <tr>\n",
       "      <th>97</th>\n",
       "      <td>CO</td>\n",
       "      <td>2015-01-24</td>\n",
       "      <td>20</td>\n",
       "      <td></td>\n",
       "      <td>0.6</td>\n",
       "    </tr>\n",
       "    <tr>\n",
       "      <th>98</th>\n",
       "      <td>CO</td>\n",
       "      <td>2015-01-24</td>\n",
       "      <td>21</td>\n",
       "      <td></td>\n",
       "      <td>0.9</td>\n",
       "    </tr>\n",
       "    <tr>\n",
       "      <th>99</th>\n",
       "      <td>CO</td>\n",
       "      <td>2015-01-24</td>\n",
       "      <td>22</td>\n",
       "      <td></td>\n",
       "      <td>NaN</td>\n",
       "    </tr>\n",
       "  </tbody>\n",
       "</table>\n",
       "<p>100 rows × 5 columns</p>\n",
       "</div>"
      ],
      "text/plain": [
       "   CONTAMINANTE      Fecha  HORA CHIH-CEN  CHIH-SUR\n",
       "0            CO 2015-01-20    17                0.6\n",
       "1            CO 2015-01-20    18                0.5\n",
       "2            CO 2015-01-20    19                0.8\n",
       "3            CO 2015-01-20    20                1.7\n",
       "4            CO 2015-01-20    21                1.4\n",
       "..          ...        ...   ...      ...       ...\n",
       "95           CO 2015-01-24    18                0.4\n",
       "96           CO 2015-01-24    19                0.5\n",
       "97           CO 2015-01-24    20                0.6\n",
       "98           CO 2015-01-24    21                0.9\n",
       "99           CO 2015-01-24    22                NaN\n",
       "\n",
       "[100 rows x 5 columns]"
      ]
     },
     "execution_count": 20,
     "metadata": {},
     "output_type": "execute_result"
    }
   ],
   "source": [
    "df.head(100)"
   ]
  },
  {
   "cell_type": "markdown",
   "metadata": {},
   "source": [
    "Se cambian los valores NaN a 1 (valor neutro)"
   ]
  },
  {
   "cell_type": "code",
   "execution_count": 21,
   "metadata": {},
   "outputs": [
    {
     "data": {
      "text/html": [
       "<div>\n",
       "<style scoped>\n",
       "    .dataframe tbody tr th:only-of-type {\n",
       "        vertical-align: middle;\n",
       "    }\n",
       "\n",
       "    .dataframe tbody tr th {\n",
       "        vertical-align: top;\n",
       "    }\n",
       "\n",
       "    .dataframe thead th {\n",
       "        text-align: right;\n",
       "    }\n",
       "</style>\n",
       "<table border=\"1\" class=\"dataframe\">\n",
       "  <thead>\n",
       "    <tr style=\"text-align: right;\">\n",
       "      <th></th>\n",
       "      <th>CONTAMINANTE</th>\n",
       "      <th>Fecha</th>\n",
       "      <th>HORA</th>\n",
       "      <th>CHIH-CEN</th>\n",
       "      <th>CHIH-SUR</th>\n",
       "    </tr>\n",
       "  </thead>\n",
       "  <tbody>\n",
       "    <tr>\n",
       "      <th>0</th>\n",
       "      <td>CO</td>\n",
       "      <td>2015-01-20</td>\n",
       "      <td>17</td>\n",
       "      <td></td>\n",
       "      <td>0.6</td>\n",
       "    </tr>\n",
       "    <tr>\n",
       "      <th>1</th>\n",
       "      <td>CO</td>\n",
       "      <td>2015-01-20</td>\n",
       "      <td>18</td>\n",
       "      <td></td>\n",
       "      <td>0.5</td>\n",
       "    </tr>\n",
       "    <tr>\n",
       "      <th>2</th>\n",
       "      <td>CO</td>\n",
       "      <td>2015-01-20</td>\n",
       "      <td>19</td>\n",
       "      <td></td>\n",
       "      <td>0.8</td>\n",
       "    </tr>\n",
       "    <tr>\n",
       "      <th>3</th>\n",
       "      <td>CO</td>\n",
       "      <td>2015-01-20</td>\n",
       "      <td>20</td>\n",
       "      <td></td>\n",
       "      <td>1.7</td>\n",
       "    </tr>\n",
       "    <tr>\n",
       "      <th>4</th>\n",
       "      <td>CO</td>\n",
       "      <td>2015-01-20</td>\n",
       "      <td>21</td>\n",
       "      <td></td>\n",
       "      <td>1.4</td>\n",
       "    </tr>\n",
       "    <tr>\n",
       "      <th>...</th>\n",
       "      <td>...</td>\n",
       "      <td>...</td>\n",
       "      <td>...</td>\n",
       "      <td>...</td>\n",
       "      <td>...</td>\n",
       "    </tr>\n",
       "    <tr>\n",
       "      <th>95</th>\n",
       "      <td>CO</td>\n",
       "      <td>2015-01-24</td>\n",
       "      <td>18</td>\n",
       "      <td></td>\n",
       "      <td>0.4</td>\n",
       "    </tr>\n",
       "    <tr>\n",
       "      <th>96</th>\n",
       "      <td>CO</td>\n",
       "      <td>2015-01-24</td>\n",
       "      <td>19</td>\n",
       "      <td></td>\n",
       "      <td>0.5</td>\n",
       "    </tr>\n",
       "    <tr>\n",
       "      <th>97</th>\n",
       "      <td>CO</td>\n",
       "      <td>2015-01-24</td>\n",
       "      <td>20</td>\n",
       "      <td></td>\n",
       "      <td>0.6</td>\n",
       "    </tr>\n",
       "    <tr>\n",
       "      <th>98</th>\n",
       "      <td>CO</td>\n",
       "      <td>2015-01-24</td>\n",
       "      <td>21</td>\n",
       "      <td></td>\n",
       "      <td>0.9</td>\n",
       "    </tr>\n",
       "    <tr>\n",
       "      <th>99</th>\n",
       "      <td>CO</td>\n",
       "      <td>2015-01-24</td>\n",
       "      <td>22</td>\n",
       "      <td></td>\n",
       "      <td>1.0</td>\n",
       "    </tr>\n",
       "  </tbody>\n",
       "</table>\n",
       "<p>100 rows × 5 columns</p>\n",
       "</div>"
      ],
      "text/plain": [
       "   CONTAMINANTE      Fecha  HORA CHIH-CEN  CHIH-SUR\n",
       "0            CO 2015-01-20    17                0.6\n",
       "1            CO 2015-01-20    18                0.5\n",
       "2            CO 2015-01-20    19                0.8\n",
       "3            CO 2015-01-20    20                1.7\n",
       "4            CO 2015-01-20    21                1.4\n",
       "..          ...        ...   ...      ...       ...\n",
       "95           CO 2015-01-24    18                0.4\n",
       "96           CO 2015-01-24    19                0.5\n",
       "97           CO 2015-01-24    20                0.6\n",
       "98           CO 2015-01-24    21                0.9\n",
       "99           CO 2015-01-24    22                1.0\n",
       "\n",
       "[100 rows x 5 columns]"
      ]
     },
     "execution_count": 21,
     "metadata": {},
     "output_type": "execute_result"
    }
   ],
   "source": [
    "df['CHIH-SUR'] = df['CHIH-SUR'].fillna(1)\n",
    "df.head(100)"
   ]
  },
  {
   "cell_type": "markdown",
   "metadata": {},
   "source": [
    "## Agrupar valores por fecha\n",
    "\n",
    "Sacando el promedio por dia"
   ]
  },
  {
   "cell_type": "code",
   "execution_count": 23,
   "metadata": {},
   "outputs": [
    {
     "data": {
      "text/html": [
       "<div>\n",
       "<style scoped>\n",
       "    .dataframe tbody tr th:only-of-type {\n",
       "        vertical-align: middle;\n",
       "    }\n",
       "\n",
       "    .dataframe tbody tr th {\n",
       "        vertical-align: top;\n",
       "    }\n",
       "\n",
       "    .dataframe thead th {\n",
       "        text-align: right;\n",
       "    }\n",
       "</style>\n",
       "<table border=\"1\" class=\"dataframe\">\n",
       "  <thead>\n",
       "    <tr style=\"text-align: right;\">\n",
       "      <th></th>\n",
       "      <th>CHIH-SUR</th>\n",
       "    </tr>\n",
       "    <tr>\n",
       "      <th>Fecha</th>\n",
       "      <th></th>\n",
       "    </tr>\n",
       "  </thead>\n",
       "  <tbody>\n",
       "    <tr>\n",
       "      <th>2015-01-01</th>\n",
       "      <td>1.000000</td>\n",
       "    </tr>\n",
       "    <tr>\n",
       "      <th>2015-01-02</th>\n",
       "      <td>0.910417</td>\n",
       "    </tr>\n",
       "    <tr>\n",
       "      <th>2015-01-03</th>\n",
       "      <td>0.856250</td>\n",
       "    </tr>\n",
       "    <tr>\n",
       "      <th>2015-01-04</th>\n",
       "      <td>0.942708</td>\n",
       "    </tr>\n",
       "    <tr>\n",
       "      <th>2015-01-05</th>\n",
       "      <td>0.926087</td>\n",
       "    </tr>\n",
       "    <tr>\n",
       "      <th>...</th>\n",
       "      <td>...</td>\n",
       "    </tr>\n",
       "    <tr>\n",
       "      <th>2018-12-27</th>\n",
       "      <td>1.000000</td>\n",
       "    </tr>\n",
       "    <tr>\n",
       "      <th>2018-12-28</th>\n",
       "      <td>1.000000</td>\n",
       "    </tr>\n",
       "    <tr>\n",
       "      <th>2018-12-29</th>\n",
       "      <td>1.000000</td>\n",
       "    </tr>\n",
       "    <tr>\n",
       "      <th>2018-12-30</th>\n",
       "      <td>1.000000</td>\n",
       "    </tr>\n",
       "    <tr>\n",
       "      <th>2018-12-31</th>\n",
       "      <td>1.000000</td>\n",
       "    </tr>\n",
       "  </tbody>\n",
       "</table>\n",
       "<p>1431 rows × 1 columns</p>\n",
       "</div>"
      ],
      "text/plain": [
       "            CHIH-SUR\n",
       "Fecha               \n",
       "2015-01-01  1.000000\n",
       "2015-01-02  0.910417\n",
       "2015-01-03  0.856250\n",
       "2015-01-04  0.942708\n",
       "2015-01-05  0.926087\n",
       "...              ...\n",
       "2018-12-27  1.000000\n",
       "2018-12-28  1.000000\n",
       "2018-12-29  1.000000\n",
       "2018-12-30  1.000000\n",
       "2018-12-31  1.000000\n",
       "\n",
       "[1431 rows x 1 columns]"
      ]
     },
     "execution_count": 23,
     "metadata": {},
     "output_type": "execute_result"
    }
   ],
   "source": [
    "df.drop(['HORA'], axis=1, inplace=True)\n",
    "df_group = (df.groupby(['Fecha']).mean())\n",
    "\n",
    "df_group"
   ]
  },
  {
   "cell_type": "markdown",
   "metadata": {},
   "source": [
    "## Graficar el dataframe resultante"
   ]
  },
  {
   "cell_type": "code",
   "execution_count": 24,
   "metadata": {
    "scrolled": true
   },
   "outputs": [
    {
     "data": {
      "image/png": "[encoded data removed]",
      "text/plain": [
       "<Figure size 864x576 with 1 Axes>"
      ]
     },
     "metadata": {
      "needs_background": "light"
     },
     "output_type": "display_data"
    }
   ],
   "source": [
    "import matplotlib.pyplot\n",
    "import matplotlib.dates\n",
    "import matplotlib.dates as mdates\n",
    "import matplotlib.ticker as ticker\n",
    "from matplotlib.dates import DateFormatter\n",
    "\n",
    "fig, ax = plt.subplots(figsize=(12, 8))\n",
    "ax.plot(df_group.index.values,\n",
    "        df_group['CHIH-SUR'].values,\n",
    "       color='red')\n",
    "ax.set(xlabel=\"Date\", ylabel=\"Mean values of contaminant levels\",\n",
    "      title=\"Contaminant progression through 2015-2018\")\n",
    "\n",
    "#format the x \n",
    "\n",
    "ax.xaxis.set_major_locator(mdates.YearLocator(1))\n",
    "ax.xaxis.set_major_formatter(DateFormatter(\"%y-%m\"))\n",
    "\n",
    "#format the y axis\n",
    "\n",
    "ax.yaxis.set_major_locator(ticker.MultipleLocator(1))\n",
    "\n",
    "plt.show()\n"
   ]
  },
  {
   "cell_type": "markdown",
   "metadata": {},
   "source": [
    "## Regresion lineal"
   ]
  },
  {
   "cell_type": "code",
   "execution_count": 30,
   "metadata": {},
   "outputs": [
    {
     "data": {
      "text/plain": [
       "LinearRegression()"
      ]
     },
     "execution_count": 30,
     "metadata": {},
     "output_type": "execute_result"
    }
   ],
   "source": [
    "import numpy as np\n",
    "from sklearn.linear_model import LinearRegression\n",
    "\n",
    "Y = df_group + (np.random.rand(1431) * 10).reshape((1431, 1))\n",
    "\n",
    "reg = LinearRegression()\n",
    "\n",
    "reg.fit(df_group, Y)"
   ]
  },
  {
   "cell_type": "code",
   "execution_count": 34,
   "metadata": {},
   "outputs": [
    {
     "data": {
      "image/png": "[encoded data removed]",
      "text/plain": [
       "<Figure size 432x288 with 1 Axes>"
      ]
     },
     "metadata": {},
     "output_type": "display_data"
    }
   ],
   "source": [
    "plt.scatter(df_group, Y,  color='black')\n",
    "plt.plot(df_group, reg.predict(df_group), color='blue', linewidth=3)\n",
    "plt.xticks(())\n",
    "plt.yticks(())\n",
    "plt.show()"
   ]
  }
 ],
 "metadata": {
  "kernelspec": {
   "display_name": "Python 3 (ipykernel)",
   "language": "python",
   "name": "python3"
  },
  "language_info": {
   "codemirror_mode": {
    "name": "ipython",
    "version": 3
   },
   "file_extension": ".py",
   "mimetype": "text/x-python",
   "name": "python",
   "nbconvert_exporter": "python",
   "pygments_lexer": "ipython3",
   "version": "3.10.0"
  }
 },
 "nbformat": 4,
 "nbformat_minor": 4
}
